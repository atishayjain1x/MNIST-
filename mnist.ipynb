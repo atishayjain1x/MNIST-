{
  "nbformat": 4,
  "nbformat_minor": 0,
  "metadata": {
    "colab": {
      "name": "mnist.ipynb",
      "provenance": [],
      "collapsed_sections": [],
      "authorship_tag": "ABX9TyMriy66Navp/kF3vtjjRyLK",
      "include_colab_link": true
    },
    "kernelspec": {
      "name": "python3",
      "display_name": "Python 3"
    },
    "accelerator": "GPU"
  },
  "cells": [
    {
      "cell_type": "markdown",
      "metadata": {
        "id": "view-in-github",
        "colab_type": "text"
      },
      "source": [
        "<a href=\"https://colab.research.google.com/github/atishayjain1x/MNIST-/blob/main/mnist.ipynb\" target=\"_parent\"><img src=\"https://colab.research.google.com/assets/colab-badge.svg\" alt=\"Open In Colab\"/></a>"
      ]
    },
    {
      "cell_type": "code",
      "metadata": {
        "id": "Qlp479ka0ESU",
        "colab": {
          "base_uri": "https://localhost:8080/"
        },
        "outputId": "9027df52-3e68-49b6-d56b-df0cf73c7912"
      },
      "source": [
        "from tensorflow.keras.datasets import mnist\n",
        "from keras.utils import to_categorical\n",
        "(xtrain,ytrain),(xtest,ytest)=mnist.load_data()\n",
        "\n",
        "xtrain=xtrain.reshape(xtrain.shape[0],28,28,1)\n",
        "xtest=xtest.reshape(xtest.shape[0],28,28,1)\n",
        "xtrain=xtrain.astype('float32')\n",
        "xtest=xtest.astype('float32')\n",
        "\n",
        "xtrain /= 255\n",
        "xtest/= 255\n",
        "ytrain=to_categorical(ytrain)\n",
        "ytest=to_categorical(ytest)\n"
      ],
      "execution_count": null,
      "outputs": [
        {
          "output_type": "stream",
          "text": [
            "Downloading data from https://storage.googleapis.com/tensorflow/tf-keras-datasets/mnist.npz\n",
            "11493376/11490434 [==============================] - 0s 0us/step\n"
          ],
          "name": "stdout"
        }
      ]
    },
    {
      "cell_type": "code",
      "metadata": {
        "colab": {
          "base_uri": "https://localhost:8080/"
        },
        "id": "wUWbPuADUJCu",
        "outputId": "61be4071-3894-4a58-9b74-cb7fa7415912"
      },
      "source": [
        "ytrain.shape"
      ],
      "execution_count": null,
      "outputs": [
        {
          "output_type": "execute_result",
          "data": {
            "text/plain": [
              "(60000, 10)"
            ]
          },
          "metadata": {
            "tags": []
          },
          "execution_count": 7
        }
      ]
    },
    {
      "cell_type": "markdown",
      "metadata": {
        "id": "KdTeKSJn7KpQ"
      },
      "source": [
        ""
      ]
    },
    {
      "cell_type": "code",
      "metadata": {
        "id": "qbIpro6k8-O3"
      },
      "source": [
        "from tensorflow.keras.layers import Conv2D\n",
        "from keras.models import sequential\n",
        "from tensorflow.keras.layers import MaxPooling2D\n",
        "from tensorflow.keras.layers import Dense\n",
        "from tensorflow.keras.layers import Flatten\n",
        "from tensorflow.keras.layers import Dropout\n",
        "model=Sequential()\n",
        "model.add(Conv2D(32,kernel_size=3, activation=\"relu\",input_shape=(28, 28, 1))\n",
        "model.add(MaxPooling2D(2,2))\n",
        "model.add(Conv2D(64,kernel_size=3, activation=\"relu\")\n",
        "model.add(MaxPooling2D(2,2))\n",
        "model.flatten()\n",
        "model.add(Dense(units=1024,activation='relu'))\n",
        "model.add(Dropout(0.2))\n",
        "model.add(Dense(units=10,activation=\"softmax\"))\n",
        "model.compile(loss='categorical_crossentropy',\n",
        "              optimizer='adam',\n",
        "              metrics=['accuracy'])\n"
      ],
      "execution_count": null,
      "outputs": []
    },
    {
      "cell_type": "code",
      "metadata": {
        "id": "ot-zgEAB7P2O",
        "colab": {
          "base_uri": "https://localhost:8080/"
        },
        "outputId": "9dc19fcb-8ac2-44e9-b253-2af6eb39470b"
      },
      "source": [
        "model.fit(xtrain,ytrain,epochs=20,batch_size=50)\n",
        "predictions=model.predict(xtest)\n",
        "score=model.evaluate(xtest,ytest)\n",
        "score"
      ],
      "execution_count": null,
      "outputs": [
        {
          "output_type": "stream",
          "text": [
            "Epoch 1/20\n",
            "1200/1200 [==============================] - 14s 6ms/step - loss: 0.2801 - accuracy: 0.9117\n",
            "Epoch 2/20\n",
            "1200/1200 [==============================] - 7s 6ms/step - loss: 0.0411 - accuracy: 0.9869\n",
            "Epoch 3/20\n",
            "1200/1200 [==============================] - 7s 6ms/step - loss: 0.0265 - accuracy: 0.9918\n",
            "Epoch 4/20\n",
            "1200/1200 [==============================] - 7s 6ms/step - loss: 0.0189 - accuracy: 0.9943\n",
            "Epoch 5/20\n",
            "1200/1200 [==============================] - 7s 6ms/step - loss: 0.0127 - accuracy: 0.9960\n",
            "Epoch 6/20\n",
            "1200/1200 [==============================] - 7s 6ms/step - loss: 0.0115 - accuracy: 0.9965\n",
            "Epoch 7/20\n",
            "1200/1200 [==============================] - 7s 6ms/step - loss: 0.0072 - accuracy: 0.9977\n",
            "Epoch 8/20\n",
            "1200/1200 [==============================] - 7s 6ms/step - loss: 0.0081 - accuracy: 0.9974\n",
            "Epoch 9/20\n",
            "1200/1200 [==============================] - 7s 6ms/step - loss: 0.0076 - accuracy: 0.9977\n",
            "Epoch 10/20\n",
            "1200/1200 [==============================] - 7s 6ms/step - loss: 0.0071 - accuracy: 0.9978\n",
            "Epoch 11/20\n",
            "1200/1200 [==============================] - 7s 6ms/step - loss: 0.0034 - accuracy: 0.9989\n",
            "Epoch 12/20\n",
            "1200/1200 [==============================] - 7s 6ms/step - loss: 0.0058 - accuracy: 0.9983\n",
            "Epoch 13/20\n",
            "1200/1200 [==============================] - 7s 6ms/step - loss: 0.0057 - accuracy: 0.9981\n",
            "Epoch 14/20\n",
            "1200/1200 [==============================] - 7s 6ms/step - loss: 0.0062 - accuracy: 0.9984\n",
            "Epoch 15/20\n",
            "1200/1200 [==============================] - 7s 6ms/step - loss: 0.0048 - accuracy: 0.9985\n",
            "Epoch 16/20\n",
            "1200/1200 [==============================] - 7s 6ms/step - loss: 0.0036 - accuracy: 0.9989\n",
            "Epoch 17/20\n",
            "1200/1200 [==============================] - 7s 6ms/step - loss: 0.0062 - accuracy: 0.9983\n",
            "Epoch 18/20\n",
            "1200/1200 [==============================] - 7s 6ms/step - loss: 0.0058 - accuracy: 0.9981\n",
            "Epoch 19/20\n",
            "1200/1200 [==============================] - 7s 6ms/step - loss: 0.0016 - accuracy: 0.9995\n",
            "Epoch 20/20\n",
            "1200/1200 [==============================] - 7s 6ms/step - loss: 0.0034 - accuracy: 0.9989\n",
            "313/313 [==============================] - 1s 3ms/step - loss: 0.0430 - accuracy: 0.9922\n"
          ],
          "name": "stdout"
        },
        {
          "output_type": "execute_result",
          "data": {
            "text/plain": [
              "[0.042989928275346756, 0.9922000169754028]"
            ]
          },
          "metadata": {
            "tags": []
          },
          "execution_count": 9
        }
      ]
    }
  ]
}